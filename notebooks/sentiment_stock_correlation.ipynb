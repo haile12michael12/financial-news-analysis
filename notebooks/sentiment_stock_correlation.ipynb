{
 "cells": [
  {
   "cell_type": "code",
   "execution_count": null,
   "id": "e6e8b299",
   "metadata": {},
   "outputs": [
    {
     "ename": "",
     "evalue": "",
     "output_type": "error",
     "traceback": [
      "\u001b[1;31mFailed to start the Kernel. \n",
      "\u001b[1;31mUnable to start Kernel '.venv (Python 3.13.3)' due to a timeout waiting for the ports to get used. \n",
      "\u001b[1;31mView Jupyter <a href='command:jupyter.viewOutput'>log</a> for further details."
     ]
    }
   ],
   "source": [
    "import pandas as pd\n",
    "import numpy as np\n",
    "from textblob import TextBlob\n",
    "import matplotlib.pyplot as plt\n",
    "from scipy.stats import pearsonr\n",
    "from datetime import datetime\n",
    "import seaborn as sns\n",
    "\n",
    "# Load datasets with explicit date parsing\n",
    "stock_df = pd.read_csv('data/AMZN_historical_data.csv')\n",
    "news_df = pd.read_csv('data/raw_analyst_ratings_1.csv')\n",
    "# Set datetime index for stock data\n",
    "\n",
    "\n",
    "# Display basic information and the first few rows of each dataset\n",
    "stock_df_info = stock_df.info()\n",
    "news_df_info = news_df.info()\n",
    "\n",
    "# Step 1: Date Alignment\n"
   ]
  },
  {
   "cell_type": "code",
   "execution_count": null,
   "id": "9a5beb5a",
   "metadata": {
    "vscode": {
     "languageId": "powershell"
    }
   },
   "outputs": [],
   "source": [
    "stock_df_head = stock_df.head()\n",
    "news_df_head = news_df.head()\n",
    "\n",
    "stock_df_info, stock_df_head, news_df_info, news_df_head\n",
    "# Step 1: Normalize Dates\n",
    "news_df['date'] = pd.to_datetime(news_df['date'], errors='coerce').dt.date\n",
    "stock_df['date'] = pd.to_datetime(stock_df['Date'], errors='coerce').dt.date\n",
    "# Step 2: Perform Sentiment Analysis using TextBlob\n",
    "\n",
    "news_df['sentiment_score'] = news_df['headline'].astype(str).apply(lambda text: TextBlob(text).sentiment.polarity)\n",
    "\n",
    "# Step 3: Aggregate Sentiment by Date\n",
    "daily_sentiment = news_df.groupby('date')['sentiment_score'].mean().reset_index()\n",
    "daily_sentiment.rename(columns={'date': 'Date', 'sentiment_score': 'avg_sentiment'}, inplace=True)\n",
    "\n",
    "\n",
    "\n",
    "# Daily returns from adjusted close\n",
    "stock_df.sort_values('Date', inplace=True)\n",
    "stock_df['daily_return'] = stock_df['Adj Close'].pct_change()"
   ]
  },
  {
   "cell_type": "code",
   "execution_count": null,
   "id": "2d0b56d1",
   "metadata": {
    "vscode": {
     "languageId": "powershell"
    }
   },
   "outputs": [],
   "source": [
    "# Merge on date\n",
    "merged_df = pd.merge(stock_df, daily_sentiment, on='Date', how='inner')\n",
    "\n",
    "# Correlation\n",
    "\n",
    "correlation = merged_df['daily_return'].corr(merged_df['avg_sentiment'])\n",
    "print(\"Correlation between daily return and average sentiment:\", correlation)\n"
   ]
  },
  {
   "cell_type": "code",
   "execution_count": null,
   "id": "fa680779",
   "metadata": {},
   "outputs": [],
   "source": []
  },
  {
   "cell_type": "code",
   "execution_count": null,
   "id": "bdcfd322",
   "metadata": {},
   "outputs": [],
   "source": [
    " # Visualize the Correlation"
   ]
  },
  {
   "cell_type": "code",
   "execution_count": null,
   "id": "e8136d17",
   "metadata": {},
   "outputs": [],
   "source": [
    "# Scatterplot of sentiment vs return\n",
    "plt.figure(figsize=(8, 5))\n",
    "sns.scatterplot(x='avg_sentiment', y='daily_return', data=merged_df)\n",
    "plt.title('Correlation between News Sentiment and Daily Stock Returns')\n",
    "plt.xlabel('Average Daily Sentiment Score')\n",
    "plt.ylabel('Daily Stock Return')\n",
    "plt.grid(True)\n",
    "plt.show()"
   ]
  },
  {
   "cell_type": "code",
   "execution_count": null,
   "id": "70e2f2f2",
   "metadata": {},
   "outputs": [],
   "source": [
    "# Time Series Plot\n",
    "plt.figure(figsize=(14, 6))\n",
    "plt.plot(merged_df['Date'], merged_df['avg_sentiment'], label='Average Sentiment')\n",
    "plt.plot(merged_df['Date'], merged_df['daily_return'], label='Daily Return')\n",
    "plt.title('Sentiment vs Daily Return Over Time')\n",
    "plt.xlabel('Date')\n",
    "plt.ylabel('Value')\n",
    "plt.legend()\n",
    "plt.grid(True)\n",
    "plt.show()"
   ]
  },
  {
   "cell_type": "code",
   "execution_count": null,
   "id": "2c87d481",
   "metadata": {},
   "outputs": [],
   "source": [
    "rolling_corr = merged_df['avg_sentiment'].rolling(window=30).corr(merged_df['daily_return'])\n",
    "\n",
    "plt.figure(figsize=(12, 5))\n",
    "plt.plot(merged_df['Date'], rolling_corr)\n",
    "plt.title('30-Day Rolling Correlation between Sentiment and Returns')\n",
    "plt.xlabel('Date')\n",
    "plt.ylabel('Correlation')\n",
    "plt.grid(True)\n",
    "plt.show()\n"
   ]
  },
  {
   "cell_type": "code",
   "execution_count": null,
   "id": "1d80a099",
   "metadata": {},
   "outputs": [],
   "source": [
    "# 📌 KPIs\n",
    "coverage = len(merged_df) / len(stock_df) * 100\n",
    "print(f\"Sentiment Coverage: {coverage:.2f}%\")\n"
   ]
  },
  {
   "cell_type": "code",
   "execution_count": null,
   "id": "56da1711",
   "metadata": {},
   "outputs": [],
   "source": [
    "print(\"Top 3 Positive Sentiment Days:\")\n",
    "print(merged_df.nlargest(3, 'avg_sentiment')[['Date', 'avg_sentiment', 'daily_return']])\n",
    "\n",
    "print(\"Top 3 Negative Sentiment Days:\")\n",
    "print(merged_df.nsmallest(3, 'avg_sentiment')[['Date', 'avg_sentiment', 'daily_return']])\n"
   ]
  },
  {
   "cell_type": "code",
   "execution_count": null,
   "id": "4fb8d178",
   "metadata": {},
   "outputs": [],
   "source": [
    "# Optional: Save output\n",
    "merged_df.to_csv('merged_sentiment_returns.csv', index=False)"
   ]
  }
 ],
 "metadata": {
  "kernelspec": {
   "display_name": ".venv",
   "language": "python",
   "name": "python3"
  },
  "language_info": {
   "codemirror_mode": {
    "name": "ipython",
    "version": 3
   },
   "file_extension": ".py",
   "mimetype": "text/x-python",
   "name": "python",
   "nbconvert_exporter": "python",
   "pygments_lexer": "ipython3",
   "version": "3.13.3"
  }
 },
 "nbformat": 4,
 "nbformat_minor": 5
}
