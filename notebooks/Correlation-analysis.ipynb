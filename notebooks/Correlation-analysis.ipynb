{
 "cells": [
  {
   "cell_type": "code",
   "execution_count": 30,
   "id": "5def37dd",
   "metadata": {},
   "outputs": [],
   "source": [
    "import pandas as pd\n",
    "from textblob import TextBlob\n",
    "import numpy as np\n",
    "import pandas as pd\n",
    "from datetime import datetime\n",
    "\n",
    "# Load data\n",
    "\n",
    "# Load data\n",
    "news_df = pd.read_csv(\"data/raw_analyst_ratings_1.csv\")\n",
    "stock_df = pd.read_csv(\"data/AMZN_historical_data.csv\")\n",
    "\n",
    "\n",
    "def analyze_sentiment(headline):\n",
    "    analysis = TextBlob(headline)\n",
    "    return analysis.sentiment.polarity  # Returns a score between -1 (negative) and 1 (positive)"
   ]
  },
  {
   "cell_type": "code",
   "execution_count": 31,
   "id": "9ef46555",
   "metadata": {},
   "outputs": [
    {
     "ename": "NameError",
     "evalue": "name 'news_data' is not defined",
     "output_type": "error",
     "traceback": [
      "\u001b[31m---------------------------------------------------------------------------\u001b[39m",
      "\u001b[31mNameError\u001b[39m                                 Traceback (most recent call last)",
      "\u001b[36mCell\u001b[39m\u001b[36m \u001b[39m\u001b[32mIn[31]\u001b[39m\u001b[32m, line 1\u001b[39m\n\u001b[32m----> \u001b[39m\u001b[32m1\u001b[39m news_data[\u001b[33m'\u001b[39m\u001b[33mSentiment\u001b[39m\u001b[33m'\u001b[39m] = \u001b[43mnews_data\u001b[49m[\u001b[33m'\u001b[39m\u001b[33mHeadline\u001b[39m\u001b[33m'\u001b[39m].apply(analyze_sentiment)  \u001b[38;5;66;03m# Adjust 'Headline' to your actual column name\u001b[39;00m\n",
      "\u001b[31mNameError\u001b[39m: name 'news_data' is not defined"
     ]
    }
   ],
   "source": [
    "news_data['Sentiment'] = news_data['Headline'].apply(analyze_sentiment)  # Adjust 'Headline' to your actual column name"
   ]
  }
 ],
 "metadata": {
  "kernelspec": {
   "display_name": ".venv",
   "language": "python",
   "name": "python3"
  },
  "language_info": {
   "codemirror_mode": {
    "name": "ipython",
    "version": 3
   },
   "file_extension": ".py",
   "mimetype": "text/x-python",
   "name": "python",
   "nbconvert_exporter": "python",
   "pygments_lexer": "ipython3",
   "version": "3.13.3"
  }
 },
 "nbformat": 4,
 "nbformat_minor": 5
}
